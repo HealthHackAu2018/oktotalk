{
 "cells": [
  {
   "cell_type": "code",
   "execution_count": 17,
   "metadata": {
    "collapsed": true
   },
   "outputs": [],
   "source": [
    "import pandas as pd\n",
    "import numpy as np\n",
    "import matplotlib.pyplot as plt\n",
    "import datetime"
   ]
  },
  {
   "cell_type": "code",
   "execution_count": 18,
   "metadata": {},
   "outputs": [
    {
     "name": "stderr",
     "output_type": "stream",
     "text": [
      "/home/mikeal/anaconda3/lib/python3.6/site-packages/IPython/core/interactiveshell.py:2698: DtypeWarning: Columns (9) have mixed types. Specify dtype option on import or set low_memory=False.\n",
      "  interactivity=interactivity, compiler=compiler, result=result)\n"
     ]
    }
   ],
   "source": [
    "# Load raw data from consumer_psych_recommendation.csv\n",
    "\n",
    "data= pd.read_csv('consumer_psych_recommendation.csv')"
   ]
  },
  {
   "cell_type": "code",
   "execution_count": 19,
   "metadata": {},
   "outputs": [],
   "source": [
    "# Convert date to years\n",
    "def date_to_years(dates):\n",
    "    \n",
    "    now=datetime.datetime.now()\n",
    "    \n",
    "    years = []\n",
    "    \n",
    "    for date in dates:\n",
    "        if type(date) is str:\n",
    "            years.append(now.year - int(date[:4]))\n",
    "        else:\n",
    "            years.append(np.nan)\n",
    "            \n",
    "    return(years)\n",
    "\n",
    "# Change years practicing, and dobs to ages and years\n",
    "\n",
    "data['consumer_age'] = date_to_years(data.consumer_dob)\n",
    "data['psych_age'] = date_to_years(data.psych_dob)\n",
    "data['years_practicing'] = date_to_years(data.practising_since)"
   ]
  },
  {
   "cell_type": "code",
   "execution_count": 20,
   "metadata": {
    "collapsed": true
   },
   "outputs": [],
   "source": [
    "## Drop all last values\n",
    "\n",
    "drop_columns = ['rating_avg', \n",
    "                'sessions',\n",
    "                'booked_appt', \n",
    "                'sent_message', \n",
    "                'viewed', \n",
    "                'psych_unmatched',\n",
    "                'staff_unmatched',\n",
    "                'self_unmatched',\n",
    "                'staff_matched',\n",
    "                'self_matched',\n",
    "                'staff_shortlisted',\n",
    "                'recommendation_id',\n",
    "                'proxy_first_name',\n",
    "                'proxy_last_name',\n",
    "                'diagnosis',\n",
    "                'first_session',\n",
    "                'ndis',\n",
    "                'why_looking',\n",
    "                'description',\n",
    "                'headline',\n",
    "                'likes_to_do',\n",
    "                'therapeutic_approach',\n",
    "                'callout1',\n",
    "                'callout2',\n",
    "                'callout3',\n",
    "                'prev_psych_experiences',\n",
    "                'consumer_dob',\n",
    "                'practising_since',\n",
    "                'psych_dob',\n",
    "                'avg_rating',\n",
    "                'rating_valid_for_display'\n",
    "               ]\n",
    "\n",
    "data=data.drop(drop_columns,1)"
   ]
  },
  {
   "cell_type": "code",
   "execution_count": 21,
   "metadata": {
    "collapsed": true
   },
   "outputs": [],
   "source": [
    "# Convert bools (male, female, t)\n",
    "gender_to_binary = {\"M\":int(0), \"F\":int(1)}\n",
    "data['consumer_gender'] = data['consumer_gender'].map(gender_to_binary).values\n",
    "data['psych_gender'] = data['psych_gender'].map(gender_to_binary).values"
   ]
  },
  {
   "cell_type": "code",
   "execution_count": 22,
   "metadata": {},
   "outputs": [],
   "source": [
    "# Convert bools to 0 and 1\n",
    "bool_to_binary = {True:1, False:0}\n",
    "bool_list = ['mhtp',\n",
    "             'sliding_scale',\n",
    "             'is_visible',\n",
    "             'bulk_billing',\n",
    "             'online_sessions',\n",
    "             'self_shortlisted']\n",
    "for bools in bool_list:\n",
    "    data[bools] = data[bools].map(bool_to_binary).values"
   ]
  },
  {
   "cell_type": "code",
   "execution_count": 23,
   "metadata": {},
   "outputs": [],
   "source": [
    "# Convert all monetary, data Nans values to means\n",
    "\n",
    "data['fees'] = data.fees.fillna(data.fees.mean())\n",
    "data['rebate'] = data.rebate.fillna(data.rebate.mean())\n",
    "data['psych_age'] = data.psych_age.fillna(data.psych_age.mean())\n",
    "data['consumer_age'] = data.consumer_age.fillna(data.consumer_age.mean())\n",
    "data['years_practicing'] = data.years_practicing.fillna(data.years_practicing.mean())\n"
   ]
  },
  {
   "cell_type": "code",
   "execution_count": 26,
   "metadata": {},
   "outputs": [],
   "source": [
    "# Rest of nans can be converted to -1\n",
    "data = data.fillna(-1)"
   ]
  },
  {
   "cell_type": "code",
   "execution_count": 28,
   "metadata": {},
   "outputs": [],
   "source": [
    "data.to_csv(\"prepared.csv\")"
   ]
  },
  {
   "cell_type": "code",
   "execution_count": null,
   "metadata": {
    "collapsed": true
   },
   "outputs": [],
   "source": []
  }
 ],
 "metadata": {
  "kernelspec": {
   "display_name": "Python 3",
   "language": "python",
   "name": "python3"
  },
  "language_info": {
   "codemirror_mode": {
    "name": "ipython",
    "version": 3
   },
   "file_extension": ".py",
   "mimetype": "text/x-python",
   "name": "python",
   "nbconvert_exporter": "python",
   "pygments_lexer": "ipython3",
   "version": "3.6.3"
  }
 },
 "nbformat": 4,
 "nbformat_minor": 2
}
