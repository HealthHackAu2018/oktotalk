{
 "cells": [
  {
   "cell_type": "code",
   "execution_count": 56,
   "metadata": {
    "collapsed": true
   },
   "outputs": [],
   "source": [
    "import pickle \n",
    "import pandas as pd\n",
    "import numpy as np"
   ]
  },
  {
   "cell_type": "code",
   "execution_count": 57,
   "metadata": {
    "collapsed": true
   },
   "outputs": [],
   "source": [
    "with open('model.pickle', 'rb') as file:\n",
    "    model = pickle.load(file) "
   ]
  },
  {
   "cell_type": "code",
   "execution_count": 58,
   "metadata": {},
   "outputs": [],
   "source": [
    "# Load consumer csv from data_prep notebook\n",
    "\n",
    "df = pd.read_csv('prepared.csv')\n",
    "df = df.drop(['Unnamed: 0','self_shortlisted'],1)"
   ]
  },
  {
   "cell_type": "code",
   "execution_count": 59,
   "metadata": {},
   "outputs": [],
   "source": [
    "consumer_id = df['consumer_id'][1]\n",
    "\n",
    "predictions = np.round(model.predict(df.loc[df['consumer_id']==consumer_id]),3)\n",
    "ids = df.loc[df['consumer_id']==consumer_id].psych_id.values\n",
    "\n",
    "results = np.array([ids,predictions]).T\n",
    "sorted_results = np.flipud(np.sort(results,axis=0))"
   ]
  },
  {
   "cell_type": "code",
   "execution_count": 76,
   "metadata": {},
   "outputs": [
    {
     "name": "stdout",
     "output_type": "stream",
     "text": [
      "consumer_id: 90851028 \n",
      "\n",
      "psych_id: 8988493\n",
      "psych_id: 8984204\n",
      "psych_id: 8981089\n",
      "psych_id: 8951005\n",
      "psych_id: 8949142\n"
     ]
    }
   ],
   "source": [
    "top = 5\n",
    "top_psychs = np.array(sorted_results.T[0,:top],dtype=int)\n",
    "\n",
    "print('consumer_id:', consumer_id, '\\n')\n",
    "for ident in top_psychs:\n",
    "    print('psych_id:', ident)"
   ]
  },
  {
   "cell_type": "code",
   "execution_count": null,
   "metadata": {},
   "outputs": [],
   "source": []
  },
  {
   "cell_type": "code",
   "execution_count": null,
   "metadata": {
    "collapsed": true
   },
   "outputs": [],
   "source": []
  }
 ],
 "metadata": {
  "kernelspec": {
   "display_name": "Python 3",
   "language": "python",
   "name": "python3"
  },
  "language_info": {
   "codemirror_mode": {
    "name": "ipython",
    "version": 3
   },
   "file_extension": ".py",
   "mimetype": "text/x-python",
   "name": "python",
   "nbconvert_exporter": "python",
   "pygments_lexer": "ipython3",
   "version": "3.6.3"
  }
 },
 "nbformat": 4,
 "nbformat_minor": 2
}
