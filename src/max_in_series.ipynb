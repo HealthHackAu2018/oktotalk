{
 "cells": [
  {
   "cell_type": "code",
   "execution_count": 22,
   "metadata": {},
   "outputs": [
    {
     "data": {
      "text/plain": [
       "function"
      ]
     },
     "execution_count": 22,
     "metadata": {},
     "output_type": "execute_result"
    }
   ],
   "source": [
    "import pandas as pd\n",
    "\n",
    "# setup demo dataframe\n",
    "df = pd.DataFrame({\"word\": [\"a\", \"b\", \"c\", \"d\"], \"click_through\": [0.5, 0.3, 0.1, 0.9]})\n",
    "\n",
    "# get the max value from the click_through series (should return 0.9)\n",
    "max_click_through = pd.DataFrame.max(df[\"click_through\"])\n",
    "\n",
    "max_click_through\n",
    "\n",
    "word_ct = 0.4\n",
    "max_ct = 0.8\n",
    "\n",
    "# lambda function to return RGB value given word_clickthrough and max_clickthrough\n",
    "color = lambda word_ct, max_ct: (word_ct / max_ct) * 255\n",
    "\n",
    "type(color)\n",
    "\n",
    "\n",
    "# a = color(word_ct, max_ct)\n",
    "# print(r)"
   ]
  },
  {
   "cell_type": "code",
   "execution_count": null,
   "metadata": {},
   "outputs": [],
   "source": []
  }
 ],
 "metadata": {
  "kernelspec": {
   "display_name": "Python 3",
   "language": "python",
   "name": "python3"
  },
  "language_info": {
   "codemirror_mode": {
    "name": "ipython",
    "version": 3
   },
   "file_extension": ".py",
   "mimetype": "text/x-python",
   "name": "python",
   "nbconvert_exporter": "python",
   "pygments_lexer": "ipython3",
   "version": "3.6.5"
  }
 },
 "nbformat": 4,
 "nbformat_minor": 2
}
