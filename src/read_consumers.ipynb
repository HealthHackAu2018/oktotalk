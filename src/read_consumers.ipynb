{
 "cells": [
  {
   "cell_type": "code",
   "execution_count": 19,
   "metadata": {},
   "outputs": [],
   "source": [
    "import pandas as pd\n",
    "\n",
    "# load the consumer data\n",
    "df = pd.read_csv(\"../data/consumer.csv\")\n",
    "# remove empty rows\n",
    "df.dropna(how=\"all\", subset=[\"why_looking\"], inplace=True)\n",
    "\n",
    "consumers = df.to_dict(\"records\")\n",
    "\n",
    "# process each consumer's reason for looking\n",
    "for i, consumer in enumerate(consumers):\n",
    "    # drop stop words\n",
    "    # break apart why_looking into list\n",
    "    #go through each issue in the issues dictionary:\n",
    "        #go through each word in each issue's wordlist\n",
    "            #if that word is found in the consumer's why looking\n",
    "                #flag them as having that issue"
   ]
  },
  {
   "cell_type": "code",
   "execution_count": null,
   "metadata": {},
   "outputs": [],
   "source": []
  },
  {
   "cell_type": "code",
   "execution_count": null,
   "metadata": {},
   "outputs": [],
   "source": []
  }
 ],
 "metadata": {
  "kernelspec": {
   "display_name": "Python 3",
   "language": "python",
   "name": "python3"
  },
  "language_info": {
   "codemirror_mode": {
    "name": "ipython",
    "version": 3
   },
   "file_extension": ".py",
   "mimetype": "text/x-python",
   "name": "python",
   "nbconvert_exporter": "python",
   "pygments_lexer": "ipython3",
   "version": "3.6.5"
  }
 },
 "nbformat": 4,
 "nbformat_minor": 2
}
